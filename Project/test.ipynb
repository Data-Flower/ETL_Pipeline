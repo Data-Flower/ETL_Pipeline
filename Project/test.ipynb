{
 "cells": [
  {
   "cell_type": "code",
   "execution_count": 1,
   "metadata": {},
   "outputs": [],
   "source": [
    "from ETL_SG import ETL_SG\n",
    "# from pyspark.sql.types import *\n",
    "# from pyspark.sql import SparkSession\n",
    "\n",
    "\n",
    "AWS_SERVICE_NAME = 's3'\n",
    "REGION = \"ap-northeast-2\"\n",
    "\n",
    "AWS_ACCESS_ID = 'aws_access_key_id'\n",
    "AWS_SECRET_KEY = 'aws_secret_access_key'\n",
    "AWS_BUCKET_NAME = 'aws_s3_bucket_name'\n",
    "\n",
    "etl = ETL_SG()\n",
    "\n",
    "def partitioning(flattened_data):\n",
    "    if len(flattened_data) != 0:\n",
    "        year = flattened_data[0]['ADJ_DT'][0:4]\n",
    "        month = flattened_data[0]['ADJ_DT'][4:6]\n",
    "        date = flattened_data[0]['ADJ_DT']\n",
    "\n",
    "        directory = f'{year}/{month}/{date}.json.gz'\n",
    "\n",
    "        return flattened_data, directory\n",
    "\n",
    "\n",
    "def etl_stream(date):\n",
    "    flattened_data = etl._extract_data(date)\n",
    "\n",
    "    return flattened_data\n",
    "\n",
    "    # schema 설정\n",
    "    # sparkSession open\n",
    "\n",
    "    # spark 처리 코드 작성가능\n",
    "        "
   ]
  },
  {
   "cell_type": "code",
   "execution_count": null,
   "metadata": {},
   "outputs": [],
   "source": [
    "etl_stream('20230407')"
   ]
  }
 ],
 "metadata": {
  "kernelspec": {
   "display_name": "cp2",
   "language": "python",
   "name": "python3"
  },
  "language_info": {
   "codemirror_mode": {
    "name": "ipython",
    "version": 3
   },
   "file_extension": ".py",
   "mimetype": "text/x-python",
   "name": "python",
   "nbconvert_exporter": "python",
   "pygments_lexer": "ipython3",
   "version": "3.10.10"
  },
  "orig_nbformat": 4
 },
 "nbformat": 4,
 "nbformat_minor": 2
}
