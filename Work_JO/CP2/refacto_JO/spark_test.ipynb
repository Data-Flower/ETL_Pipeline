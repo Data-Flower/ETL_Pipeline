{
 "cells": [
  {
   "cell_type": "code",
   "execution_count": 1,
   "metadata": {},
   "outputs": [],
   "source": [
    "import requests\n",
    "from pyspark.sql import SparkSession\n",
    "from pyspark.sql.functions import udf\n",
    "from pyspark.sql.types import StringType\n",
    "from modules import extract_, compress_, load_"
   ]
  },
  {
   "cell_type": "code",
   "execution_count": 2,
   "metadata": {},
   "outputs": [],
   "source": [
    "def transform_flat(date):\n",
    "    '''\n",
    "    날짜를 입력하면 그 날짜의 모든 거래를 품목별 법인별로 집계하여\\n\n",
    "    단일 json 데이터로 반환하는 함수\n",
    "    '''\n",
    "    import os\n",
    "    import math\n",
    "    import json\n",
    "    from dotenv import load_dotenv\n",
    "    load_dotenv()\n",
    "\n",
    "    api_id = os.getenv('garak_id')\n",
    "    api_pw = os.getenv('garak_passwd')\n",
    "    url = 'http://www.garak.co.kr/publicdata/dataOpen.do?'\n",
    "\n",
    "    bubin_list = ['11000101','11000102','11000103','11000104','11000105','11000106']\n",
    "    pummok_list = ['감귤','감자','건고추','고구마','단감','당근','딸기','마늘','무',\n",
    "                    '미나리','바나나','배','배추','버섯','사과','상추','생고추','수박',\n",
    "                    '시금치','양배추','양상추','양파','오이','참외','토마토','파',\n",
    "                    '포도','피망','호박']\n",
    "\n",
    "    dict1 = {'data': []}\n",
    "    for pummok in pummok_list:\n",
    "        dict2 = {f'{pummok}': []}\n",
    "        for bubin in bubin_list:\n",
    "            params = (\n",
    "                    ('id', api_id),\n",
    "                    ('passwd', api_pw),\n",
    "                    ('dataid', 'data12'),\n",
    "                    ('pagesize', '10'),\n",
    "                    ('pageidx', '1'),\n",
    "                    ('portal.templet', 'false'),\n",
    "                    ('s_date', date),\n",
    "                    ('s_bubin', bubin),\n",
    "                    ('s_pummok', pummok),\n",
    "                    ('s_sangi', '')\n",
    "                    )\n",
    "            dict3 = {f'{bubin}': []}\n",
    "            list_total_count = int(extract_.extract(url, params)['lists']['list_total_count'])\n",
    "            total_page = math.ceil(int(list_total_count) / 10)\n",
    "\n",
    "            if int(list_total_count) != 0:\n",
    "                for page in range(1, total_page+1):\n",
    "                    params = (\n",
    "                                ('id', api_id),\n",
    "                                ('passwd', api_pw),\n",
    "                                ('dataid', 'data12'),\n",
    "                                ('pagesize', '10'),\n",
    "                                ('pageidx', page),\n",
    "                                ('portal.templet', 'false'),\n",
    "                                ('s_date', date),\n",
    "                                ('s_bubin', bubin),\n",
    "                                ('s_pummok', pummok),\n",
    "                                ('s_sangi', '')\n",
    "                             )\n",
    "                    html_dict = extract_.extract(url, params)\n",
    "                    if list_total_count % 10 > 1:\n",
    "                        for i in range(len(html_dict['lists']['list'])):\n",
    "                            dict3[f'{bubin}'].append({\n",
    "                                'idx' : ((page -1) * 10) + (i + 1),\n",
    "                                'PUMMOK' : html_dict['lists']['list'][i]['PUMMOK'],\n",
    "                                'PUMJONG' : html_dict['lists']['list'][i]['PUMJONG'],\n",
    "                                'UUN' : html_dict['lists']['list'][i]['UUN'],\n",
    "                                'DDD' : html_dict['lists']['list'][i]['DDD'],\n",
    "                                'PPRICE' : html_dict['lists']['list'][i]['PPRICE'],\n",
    "                                'SSANGI' : html_dict['lists']['list'][i]['SSANGI'],\n",
    "                                'CORP_NM' : html_dict['lists']['list'][i]['CORP_NM'],\n",
    "                                'ADJ_DT' : html_dict['lists']['list'][i]['ADJ_DT']\n",
    "                                })\n",
    "                    elif list_total_count % 10 == 1:\n",
    "                        if list_total_count > 1:\n",
    "                            for i in range(10):\n",
    "                                dict3[f'{bubin}'].append({\n",
    "                                    'idx' : ((page -1) * 10) + (i + 1),\n",
    "                                    'PUMMOK' : html_dict['lists']['list'][i]['PUMMOK'],\n",
    "                                    'PUMJONG' : html_dict['lists']['list'][i]['PUMJONG'],\n",
    "                                    'UUN' : html_dict['lists']['list'][i]['UUN'],\n",
    "                                    'DDD' : html_dict['lists']['list'][i]['DDD'],\n",
    "                                    'PPRICE' : html_dict['lists']['list'][i]['PPRICE'],\n",
    "                                    'SSANGI' : html_dict['lists']['list'][i]['SSANGI'],\n",
    "                                    'CORP_NM' : html_dict['lists']['list'][i]['CORP_NM'],\n",
    "                                    'ADJ_DT' : html_dict['lists']['list'][i]['ADJ_DT']\n",
    "                                    })\n",
    "                            list_total_count -= 10\n",
    "                        elif list_total_count == 1:\n",
    "                            dict3[f'{bubin}'].append({\n",
    "                                'idx' : int(html_dict['lists']['list_total_count']),\n",
    "                                'PUMMOK' : html_dict['lists']['list']['PUMMOK'],\n",
    "                                'PUMJONG' : html_dict['lists']['list']['PUMJONG'],\n",
    "                                'UUN' : html_dict['lists']['list']['UUN'],\n",
    "                                'DDD' : html_dict['lists']['list']['DDD'],\n",
    "                                'PPRICE' : html_dict['lists']['list']['PPRICE'],\n",
    "                                'SSANGI' : html_dict['lists']['list']['SSANGI'],\n",
    "                                'CORP_NM' : html_dict['lists']['list']['CORP_NM'],\n",
    "                                'ADJ_DT' : html_dict['lists']['list']['ADJ_DT']\n",
    "                                })\n",
    "                dict2[f'{pummok}'].append(dict3)\n",
    "            else:\n",
    "                pass\n",
    "        dict1['data'].append(dict2)\n",
    "\n",
    "    flattened_data = []\n",
    "    for item_data in dict1['data']:\n",
    "        for item, bubin_list in item_data.items():\n",
    "            for bubin_data in bubin_list:\n",
    "                for bubin, transactions in bubin_data.items():\n",
    "                    for transaction in transactions:\n",
    "                        flattened_row = transaction.copy()\n",
    "                        flattened_row['item'] = item\n",
    "                        flattened_row['bubin'] = bubin\n",
    "                        flattened_data.append(flattened_row)\n",
    "\n",
    "    return flattened_data"
   ]
  },
  {
   "cell_type": "code",
   "execution_count": 3,
   "metadata": {},
   "outputs": [],
   "source": [
    "from pyspark.sql.types import ArrayType, StringType, IntegerType, DoubleType, StructType, StructField\n",
    "\n",
    "schema = ArrayType(\n",
    "    StructType([\n",
    "        StructField(\"idx\", IntegerType(), True),\n",
    "        StructField(\"PUMMOK\", StringType(), True),\n",
    "        StructField(\"PUMJONG\", StringType(), True),\n",
    "        StructField(\"UUN\", StringType(), True),\n",
    "        StructField(\"DDD\", StringType(), True),\n",
    "        StructField(\"PPRICE\", DoubleType(), True),\n",
    "        StructField(\"SSANGI\", StringType(), True),\n",
    "        StructField(\"CORP_NM\", StringType(), True),\n",
    "        StructField(\"ADJ_DT\", StringType(), True),\n",
    "        StructField(\"item\", StringType(), True),\n",
    "        StructField(\"bubin\", StringType(), True),\n",
    "    ])\n",
    ")"
   ]
  },
  {
   "cell_type": "code",
   "execution_count": 4,
   "metadata": {},
   "outputs": [],
   "source": [
    "transform_flat_udf = udf(transform_flat, schema)"
   ]
  },
  {
   "cell_type": "code",
   "execution_count": 5,
   "metadata": {},
   "outputs": [],
   "source": [
    "spark = SparkSession.builder.appName(\"API request with Spark\").getOrCreate()"
   ]
  },
  {
   "cell_type": "code",
   "execution_count": 6,
   "metadata": {},
   "outputs": [],
   "source": [
    "data = [(\"2023-04-01\",), (\"2023-04-02\",), (\"2023-04-03\",)]\n",
    "columns = [\"date\"]\n",
    "input_df = spark.createDataFrame(data, columns)"
   ]
  },
  {
   "cell_type": "code",
   "execution_count": 7,
   "metadata": {},
   "outputs": [],
   "source": [
    "result_df = input_df.withColumn(\"transformed_data\", transform_flat_udf(input_df[\"date\"]))"
   ]
  },
  {
   "cell_type": "code",
   "execution_count": 8,
   "metadata": {},
   "outputs": [],
   "source": [
    "from pyspark.sql.functions import explode\n",
    "\n",
    "flattened_result_df = result_df.select(\"date\", explode(\"transformed_data\").alias(\"flat_data\"))"
   ]
  },
  {
   "cell_type": "code",
   "execution_count": 9,
   "metadata": {},
   "outputs": [],
   "source": [
    "save_path = \"C:/Users/wldnr/OneDrive/바탕 화면/DF/Work_JO/CP2/refacto_JO/spark_dataframe\""
   ]
  },
  {
   "cell_type": "code",
   "execution_count": 10,
   "metadata": {},
   "outputs": [],
   "source": [
    "final_result_df = flattened_result_df.select(\n",
    "    \"date\",\n",
    "    \"flat_data.idx\",\n",
    "    \"flat_data.PUMMOK\",\n",
    "    \"flat_data.PPRICE\"\n",
    ")"
   ]
  },
  {
   "cell_type": "code",
   "execution_count": 12,
   "metadata": {},
   "outputs": [
    {
     "name": "stdout",
     "output_type": "stream",
     "text": [
      "root\n",
      " |-- date: string (nullable = true)\n",
      " |-- idx: integer (nullable = true)\n",
      " |-- PUMMOK: string (nullable = true)\n",
      " |-- PPRICE: double (nullable = true)\n",
      "\n"
     ]
    }
   ],
   "source": [
    "final_result_df.printSchema()"
   ]
  }
 ],
 "metadata": {
  "kernelspec": {
   "display_name": "cp2",
   "language": "python",
   "name": "python3"
  },
  "language_info": {
   "codemirror_mode": {
    "name": "ipython",
    "version": 3
   },
   "file_extension": ".py",
   "mimetype": "text/x-python",
   "name": "python",
   "nbconvert_exporter": "python",
   "pygments_lexer": "ipython3",
   "version": "3.8.16"
  },
  "orig_nbformat": 4
 },
 "nbformat": 4,
 "nbformat_minor": 2
}
