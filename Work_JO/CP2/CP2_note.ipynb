{
 "cells": [
  {
   "cell_type": "code",
   "execution_count": 28,
   "metadata": {},
   "outputs": [],
   "source": [
    "import pandas as pd\n",
    "import glob\n",
    "import os"
   ]
  },
  {
   "cell_type": "code",
   "execution_count": 30,
   "metadata": {},
   "outputs": [],
   "source": [
    "data = pd.read_csv('C:/Users/wldnr/OneDrive/바탕 화면/DF/Work_JO/CP2/data/S-DoT_NATURE_2020.04.01-04.30.csv', encoding = 'cp949')"
   ]
  },
  {
   "cell_type": "code",
   "execution_count": 31,
   "metadata": {},
   "outputs": [
    {
     "data": {
      "text/plain": [
       "Index(['기관 명', '모델명', '시리얼', '구분', '초미세먼지(㎍/㎥)', '미세먼지(㎍/㎥)', ' 기온(℃) ',\n",
       "       '상대습도( %)', '풍향(°)', '풍속(m/s)', '돌풍 풍향(°)', '돌풍 풍속(m/s)', '조도(lux)',\n",
       "       '자외선(UVI)', '소음(dB)', ' 진동_x(g) ', ' 진동_y(g) ', ' 진동_z(g) ',\n",
       "       ' 진동_x 최대(g) ', ' 진동_y 최대(g) ', ' 진동_z 최대(g) ', '흑구 온도(℃)',\n",
       "       '초미세먼지 보정(㎍/㎥)', '미세먼지 보정(㎍/㎥)', '전송시간', '등록일자'],\n",
       "      dtype='object')"
      ]
     },
     "execution_count": 31,
     "metadata": {},
     "output_type": "execute_result"
    }
   ],
   "source": [
    "data.columns"
   ]
  }
 ],
 "metadata": {
  "kernelspec": {
   "display_name": "cp2",
   "language": "python",
   "name": "python3"
  },
  "language_info": {
   "name": "python",
   "version": "3.8.16"
  },
  "orig_nbformat": 4
 },
 "nbformat": 4,
 "nbformat_minor": 2
}
