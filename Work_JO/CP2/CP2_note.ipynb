{
 "cells": [
  {
   "cell_type": "code",
   "execution_count": 16,
   "metadata": {},
   "outputs": [],
   "source": [
    "import pandas as pd"
   ]
  },
  {
   "cell_type": "code",
   "execution_count": 24,
   "metadata": {},
   "outputs": [
    {
     "name": "stderr",
     "output_type": "stream",
     "text": [
      "C:\\Users\\wldnr\\AppData\\Local\\Temp\\ipykernel_15264\\839809213.py:1: DtypeWarning: Columns (6,7,8,9,10,11,12,13,14,15,16,17,18,19,20,21,22,23,24,25,26,27,28,29,30,31,32,33,34,35,36,37,38,39,40,41,42,43,44,45,46,47,48,49,50,51,52,53,54,55,56,57,58,59,60,61,62) have mixed types. Specify dtype option on import or set low_memory=False.\n",
      "  data1 = pd.read_csv('C:/Users/wldnr/OneDrive/바탕 화면/DF/Work_JO/CP2/data/스마트서울 도시데이터 센서(S-DoT) 환경정보.csv', encoding = 'cp949')\n"
     ]
    }
   ],
   "source": [
    "data1 = pd.read_csv('C:/Users/wldnr/OneDrive/바탕 화면/DF/Work_JO/CP2/data/스마트서울 도시데이터 센서(S-DoT) 환경정보.csv', encoding = 'cp949')"
   ]
  },
  {
   "cell_type": "code",
   "execution_count": 27,
   "metadata": {},
   "outputs": [
    {
     "data": {
      "text/plain": [
       "Index(['모델번호', '시리얼', '측정시간', '지역', '자치구', '행정동', '초미세먼지 최대(㎍/㎥)',\n",
       "       '초미세먼지 평균(㎍/㎥)', '초미세먼지 최소(㎍/㎥)', '미세먼지 최대(㎍/㎥)', '미세먼지 평균(㎍/㎥)',\n",
       "       '미세먼지 최소(㎍/㎥)', '온도 최대(℃)', '온도 평균(℃)', '온도 최소(℃)', '습도 최대(%)',\n",
       "       '습도 평균(%)', '습도 최소(%)', '풍속 최대(m/s)', '풍속 평균(m/s)', '풍속 최소(m/s)',\n",
       "       '풍향 최대(m/s)', '풍향 평균(m/s)', '풍향 최소(m/s)', '조도 최대(lux)', '조도 평균(lux)',\n",
       "       '조도 최소(lux)', '자외선 최대(UV)', '자외선 평균(UV)', '자외선 최대(UV).1', '소음 최대(dB)',\n",
       "       '소음 평균(dB)', '소음 최소(dB)', '진동(x) 최대(mm/s)', '진동(x) 평균(mm/s)',\n",
       "       '진동(x) 최소(mm/s)', '진동(y) 최대(mm/s)', '진동(y) 평균(mm/s)', '진동(y) 최소(mm/s)',\n",
       "       '진동(z) 최대(mm/s)', '진동(z) 평균(mm/s)', '진동(z) 최소(mm/s)', '흑구온도 최대(℃)',\n",
       "       '흑구온도 평균(℃)', '흑구온도 최소(℃)', '이산화질소 최대(ppm)', '이산화질소 평균(ppm)',\n",
       "       '이산화질소 최소(ppm)', '일산화탄소 최대(ppm)', '일산화탄소 평균(ppm)', '일산화탄소 최소(ppm)',\n",
       "       '이산화황 최대(ppm)', '이산화황 평균(ppm)', '이산화황 최소(ppm)', '암모니아 최대(ppm)',\n",
       "       '암모니아 평균(ppm)', '암모니아 최소(ppm)', '황화수소 최대(ppm)', '황화수소 평균(ppm)',\n",
       "       '황화수소 최소(ppm)', '오존 최대(ppm)', '오존 평균(ppm)', '오존 최소(ppm)', '등록일시'],\n",
       "      dtype='object')"
      ]
     },
     "execution_count": 27,
     "metadata": {},
     "output_type": "execute_result"
    }
   ],
   "source": [
    "data1.columns"
   ]
  }
 ],
 "metadata": {
  "kernelspec": {
   "display_name": "cp2",
   "language": "python",
   "name": "python3"
  },
  "language_info": {
   "name": "python",
   "version": "3.8.16"
  },
  "orig_nbformat": 4
 },
 "nbformat": 4,
 "nbformat_minor": 2
}
