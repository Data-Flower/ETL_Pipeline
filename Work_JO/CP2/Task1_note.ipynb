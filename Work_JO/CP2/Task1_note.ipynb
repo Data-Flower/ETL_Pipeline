{
 "cells": [
  {
   "cell_type": "code",
   "execution_count": 62,
   "metadata": {},
   "outputs": [],
   "source": [
    "import pandas as pd\n",
    "import os"
   ]
  },
  {
   "cell_type": "code",
   "execution_count": 63,
   "metadata": {},
   "outputs": [],
   "source": [
    "path_dir = 'C:/Users/wldnr/OneDrive/바탕 화면/DF/Work_JO/CP2/Batch_data'\n",
    "path_2020 = 'C:/Users/wldnr/OneDrive/바탕 화면/DF/Work_JO/CP2/Batch_data/20.04.01~21.01.03'\n",
    "path_2021 = 'C:/Users/wldnr/OneDrive/바탕 화면/DF/Work_JO/CP2/Batch_data/21.01.04~22.01.02'\n",
    "path_2022 = 'C:/Users/wldnr/OneDrive/바탕 화면/DF/Work_JO/CP2/Batch_data/22.01.03~23.01.01'\n",
    "path_2023 = 'C:/Users/wldnr/OneDrive/바탕 화면/DF/Work_JO/CP2/Batch_data/23.01.02~23.03.26'"
   ]
  },
  {
   "cell_type": "code",
   "execution_count": 64,
   "metadata": {},
   "outputs": [],
   "source": [
    "dir_list = os.listdir(path_dir)\n",
    "dir_2020 = os.listdir(path_2020)\n",
    "dir_2021 = os.listdir(path_2021)\n",
    "dir_2022 = os.listdir(path_2022)\n",
    "dir_2023 = os.listdir(path_2023)"
   ]
  },
  {
   "cell_type": "code",
   "execution_count": 65,
   "metadata": {},
   "outputs": [
    {
     "name": "stdout",
     "output_type": "stream",
     "text": [
      "['20.04.01~21.01.03', '21.01.04~22.01.02', '22.01.03~23.01.01', '23.01.02~23.03.26']\n",
      "['S-DoT_NATURE_2020.04.01-04.30.csv', 'S-DoT_NATURE_2020.05.01-05.31.csv', 'S-DoT_NATURE_2020.06.01-06.30.csv', 'S-DoT_NATURE_2020.07.01-07.31.csv', 'S-DoT_NATURE_2020.08.01-08.31.csv', 'S-DoT_NATURE_2020.09.01-09.30.csv', 'S-DoT_NATURE_2020.10.01-10.31.csv', 'S-DoT_NATURE_2020.11.09-11.15.csv', 'S-DoT_NATURE_2020.11.16-11.22.csv', 'S-DoT_NATURE_2020.11.23-11.29.csv', 'S-DoT_NATURE_2020.11.30-12.06.csv', 'S-DoT_NATURE_2020.12.07-12.13.csv', 'S-DoT_NATURE_2020.12.14-12.20.csv', 'S-DoT_NATURE_2020.12.21-12.27.csv', 'S-DoT_NATURE_2020.12.28-01.03.csv']\n",
      "['S-DoT_NATURE_2021.01.04-01.10.csv', 'S-DoT_NATURE_2021.01.11-01.17.csv', 'S-DoT_NATURE_2021.01.18-01.24.csv', 'S-DoT_NATURE_2021.01.25-01.31.csv', 'S-DoT_NATURE_2021.02.01-02.07.csv', 'S-DoT_NATURE_2021.02.08-02.14.csv', 'S-DoT_NATURE_2021.02.15-02.21.csv', 'S-DoT_NATURE_2021.02.22-02.28.csv', 'S-DoT_NATURE_2021.03.01-03.07.csv', 'S-DoT_NATURE_2021.03.08-03.14.csv', 'S-DoT_NATURE_2021.03.15-03.21.csv', 'S-DoT_NATURE_2021.03.22-03.28.csv', 'S-DoT_NATURE_2021.03.29-04.04.csv', 'S-DoT_NATURE_2021.04.05-04.11.csv', 'S-DoT_NATURE_2021.04.12-04.18.csv', 'S-DoT_NATURE_2021.04.19-04.25.csv', 'S-DoT_NATURE_2021.04.26-05.02.csv', 'S-DoT_NATURE_2021.05.03-05.09.csv', 'S-DoT_NATURE_2021.05.10-05.16.csv', 'S-DoT_NATURE_2021.05.17-05.23.csv', 'S-DoT_NATURE_2021.05.24-05.30.csv', 'S-DoT_NATURE_2021.05.31-06.06.csv', 'S-DoT_NATURE_2021.06.07-06.13.csv', 'S-DoT_NATURE_2021.06.14-06.20.csv', 'S-DoT_NATURE_2021.06.21-06.27.csv', 'S-DoT_NATURE_2021.06.28-07.04.csv', 'S-DoT_NATURE_2021.07.05-07.11.csv', 'S-DoT_NATURE_2021.07.12-07.18.csv', 'S-DoT_NATURE_2021.07.19-07.25.csv', 'S-DoT_NATURE_2021.07.26-08.01.csv', 'S-DoT_NATURE_2021.08.02-08.08.csv', 'S-DoT_NATURE_2021.08.09-08.15.csv', 'S-DoT_NATURE_2021.08.16-08.22.csv', 'S-DoT_NATURE_2021.08.23-08.29.csv', 'S-DoT_NATURE_2021.08.30-09.05.csv', 'S-DoT_NATURE_2021.09.06-09.12.csv', 'S-DoT_NATURE_2021.09.13-09.19.csv', 'S-DoT_NATURE_2021.09.20-09.26.csv', 'S-DoT_NATURE_2021.09.27-10.03.csv', 'S-DoT_NATURE_2021.09.30-10.05.csv', 'S-DoT_NATURE_2021.10.04-10.10.csv', 'S-DoT_NATURE_2021.10.11-10.17.csv', 'S-DoT_NATURE_2021.10.18-10.24.csv', 'S-DoT_NATURE_2021.10.25-10.31.csv', 'S-DoT_NATURE_2021.11.01-11.07.csv', 'S-DoT_NATURE_2021.11.08-11.14.csv', 'S-DoT_NATURE_2021.11.15-11.21.csv', 'S-DoT_NATURE_2021.11.16-11.22.csv', 'S-DoT_NATURE_2021.11.22-11.28.csv', 'S-DoT_NATURE_2021.11.29-12.05.csv', 'S-DoT_NATURE_2021.12.06-12.12.csv', 'S-DoT_NATURE_2021.12.13-12.19.csv', 'S-DoT_NATURE_2021.12.20-12.26.csv', 'S-DoT_NATURE_2021.12.27-01.02.csv']\n",
      "['S-DoT_NATURE_2022.01.03-01.09.csv', 'S-DoT_NATURE_2022.01.10-01.16.csv', 'S-DoT_NATURE_2022.01.17-01.23.csv', 'S-DoT_NATURE_2022.01.24-01.30.csv', 'S-DoT_NATURE_2022.01.31-02.06.csv', 'S-DoT_NATURE_2022.02.07-02.13.csv', 'S-DoT_NATURE_2022.02.14-02.20.csv', 'S-DoT_NATURE_2022.02.21-02.27.csv', 'S-DoT_NATURE_2022.02.28-03.06.csv', 'S-DoT_NATURE_2022.03.07-03.13.csv', 'S-DoT_NATURE_2022.03.14-03.20.csv', 'S-DoT_NATURE_2022.03.21-03.27.csv', 'S-DoT_NATURE_2022.03.28-04.03.csv', 'S-DoT_NATURE_2022.04.04-04.10.csv', 'S-DoT_NATURE_2022.04.11-04.17.csv', 'S-DoT_NATURE_2022.04.18-04.24.csv', 'S-DoT_NATURE_2022.04.25-05.01.csv', 'S-DoT_NATURE_2022.05.02-05.08.csv', 'S-DoT_NATURE_2022.05.09-05.15.csv', 'S-DoT_NATURE_2022.05.16-05.22.csv', 'S-DoT_NATURE_2022.05.23-05.29.csv', 'S-DoT_NATURE_2022.05.30-06.05.csv', 'S-DoT_NATURE_2022.06.06-06.12.csv', 'S-DoT_NATURE_2022.06.13-06.19.csv', 'S-DoT_NATURE_2022.06.20-06.26.csv', 'S-DoT_NATURE_2022.06.27-07.03.csv', 'S-DoT_NATURE_2022.07.04-07.10.csv', 'S-DoT_NATURE_2022.07.11-07.17.csv', 'S-DoT_NATURE_2022.07.18-07.24.csv', 'S-DoT_NATURE_2022.07.25-07.31.csv', 'S-DoT_NATURE_2022.08.01-08.07.csv', 'S-DoT_NATURE_2022.08.08-08.14.csv', 'S-DoT_NATURE_2022.08.15-08.21.csv', 'S-DoT_NATURE_2022.08.22-08.28.csv', 'S-DoT_NATURE_2022.08.29-09.04.csv', 'S-DoT_NATURE_2022.09.05-09.11.csv', 'S-DoT_NATURE_2022.09.12-09.18.csv', 'S-DoT_NATURE_2022.09.19-09.25.csv', 'S-DoT_NATURE_2022.09.26-10.02.csv', 'S-DoT_NATURE_2022.10.03-10.09.csv', 'S-DoT_NATURE_2022.10.10-10.16.csv', 'S-DoT_NATURE_2022.10.17-10.23.csv', 'S-DoT_NATURE_2022.10.24-10.30.csv', 'S-DoT_NATURE_2022.10.31-11.06.csv', 'S-DoT_NATURE_2022.11.07-11.13.csv', 'S-DoT_NATURE_2022.11.14-11.20.csv', 'S-DoT_NATURE_2022.11.21-11.27.csv', 'S-DoT_NATURE_2022.11.28-12.04.csv', 'S-DoT_NATURE_2022.12.12-12.18.csv', 'S-DoT_NATURE_2022.12.19-12.25.csv', 'S-DoT_NATURE_2022.12.26-01.01.csv']\n",
      "['S-DoT_NATURE_2023.01.02-01.08.csv', 'S-DoT_NATURE_2023.01.09-01.15.csv', 'S-DoT_NATURE_2023.01.16-01.22.csv', 'S-DoT_NATURE_2023.01.23-01.29.csv', 'S-DoT_NATURE_2023.01.30-02.05.csv', 'S-DoT_NATURE_2023.02.06-02.12.csv', 'S-DoT_NATURE_2023.02.13-02.19.csv', 'S-DoT_NATURE_2023.02.20-02.26.csv', 'S-DoT_NATURE_2023.02.27-03.05.csv', 'S-DoT_NATURE_2023.03.06-03.12.csv', 'S-DoT_NATURE_2023.03.13-03.19.csv', 'S-DoT_NATURE_2023.03.20-03.26.csv']\n"
     ]
    }
   ],
   "source": [
    "print(dir_list)\n",
    "print(dir_2020)\n",
    "print(dir_2021)\n",
    "print(dir_2022)\n",
    "print(dir_2023)"
   ]
  },
  {
   "cell_type": "code",
   "execution_count": 68,
   "metadata": {},
   "outputs": [],
   "source": [
    "def extract_col_1(path, dir, n):\n",
    "    \"\"\"\n",
    "    경로의 n번째 파일을 Task_1 에 맞게 컬럼추출\n",
    "    \"\"\"\n",
    "    data = pd.read_csv(f'{path}/{dir[n]}', encoding = 'cp949')\n",
    "    \n",
    "    column_name = list(data.columns)\n",
    "    new_column_index = [i for i in range(len(column_name)) if '먼지' in column_name[i]]\n",
    "    new_column_index.append(-1)\n",
    "    \n",
    "    if data[data.columns[-1]].notnull().sum() == 0:\n",
    "        data.reset_index(inplace = True)\n",
    "        data = data.iloc[:, :-2]\n",
    "        data.columns = column_name\n",
    "    \n",
    "    data = data.iloc[:, new_column_index]\n",
    "    \n",
    "    return data"
   ]
  },
  {
   "cell_type": "code",
   "execution_count": 77,
   "metadata": {},
   "outputs": [],
   "source": [
    "df1 = extract_col_1(path_2020, dir_2020, 0)\n",
    "df2 = extract_col_1(path_2023, dir_2023, -1)"
   ]
  },
  {
   "cell_type": "code",
   "execution_count": 75,
   "metadata": {},
   "outputs": [
    {
     "data": {
      "text/plain": [
       "['초미세먼지(㎍/㎥)', '미세먼지(㎍/㎥)', '초미세먼지 보정(㎍/㎥)', '미세먼지 보정(㎍/㎥)', '등록일자']"
      ]
     },
     "execution_count": 75,
     "metadata": {},
     "output_type": "execute_result"
    }
   ],
   "source": [
    "list(df1.columns)"
   ]
  },
  {
   "cell_type": "code",
   "execution_count": 78,
   "metadata": {},
   "outputs": [
    {
     "data": {
      "text/plain": [
       "['초미세먼지 최대(㎍/㎥)',\n",
       " '초미세먼지 평균(㎍/㎥)',\n",
       " '초미세먼지 최소(㎍/㎥)',\n",
       " '미세먼지 최대(㎍/㎥)',\n",
       " '미세먼지 평균(㎍/㎥)',\n",
       " '미세먼지 최소(㎍/㎥)',\n",
       " '등록일시']"
      ]
     },
     "execution_count": 78,
     "metadata": {},
     "output_type": "execute_result"
    }
   ],
   "source": [
    "list(df2.columns)"
   ]
  },
  {
   "cell_type": "code",
   "execution_count": null,
   "metadata": {},
   "outputs": [],
   "source": []
  }
 ],
 "metadata": {
  "kernelspec": {
   "display_name": "cp2",
   "language": "python",
   "name": "python3"
  },
  "language_info": {
   "codemirror_mode": {
    "name": "ipython",
    "version": 3
   },
   "file_extension": ".py",
   "mimetype": "text/x-python",
   "name": "python",
   "nbconvert_exporter": "python",
   "pygments_lexer": "ipython3",
   "version": "3.8.16"
  },
  "orig_nbformat": 4
 },
 "nbformat": 4,
 "nbformat_minor": 2
}
